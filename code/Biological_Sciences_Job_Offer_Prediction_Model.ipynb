{
  "nbformat": 4,
  "nbformat_minor": 0,
  "metadata": {
    "colab": {
      "provenance": [],
      "toc_visible": true
    },
    "kernelspec": {
      "name": "python3",
      "display_name": "Python 3"
    },
    "language_info": {
      "name": "python"
    }
  },
  "cells": [
    {
      "cell_type": "code",
      "execution_count": null,
      "metadata": {
        "id": "opW_u06hrHrA",
        "colab": {
          "base_uri": "https://localhost:8080/"
        },
        "outputId": "a67d921a-8616-4d0e-be1d-3167bc5fdf08"
      },
      "outputs": [
        {
          "output_type": "stream",
          "name": "stdout",
          "text": [
            "Drive already mounted at /content/drive; to attempt to forcibly remount, call drive.mount(\"/content/drive\", force_remount=True).\n"
          ]
        }
      ],
      "source": [
        "from google.colab import drive\n",
        "import pandas as pd\n",
        "import numpy as np\n",
        "import seaborn as sns\n",
        "drive.mount('/content/drive')"
      ]
    },
    {
      "cell_type": "code",
      "source": [
        "# Import necessary libraries\n",
        "import numpy as np\n",
        "import pandas as pd\n",
        "from sklearn.preprocessing import StandardScaler\n",
        "from sklearn.model_selection import KFold, GridSearchCV, cross_val_score\n",
        "from sklearn.linear_model import LogisticRegression, LogisticRegressionCV\n",
        "from sklearn import metrics\n",
        "from sklearn.metrics import accuracy_score, recall_score, make_scorer, confusion_matrix, classification_report\n",
        "import matplotlib.pyplot as plt\n",
        "import seaborn as sns"
      ],
      "metadata": {
        "id": "WI_68EcXk43y"
      },
      "execution_count": null,
      "outputs": []
    },
    {
      "cell_type": "markdown",
      "source": [
        "# Step 1. Load Data"
      ],
      "metadata": {
        "id": "0ZMtvAv2vKJU"
      }
    },
    {
      "cell_type": "code",
      "source": [
        "# Step 1: Data Preparation\n",
        "# Load your data into X and y variables\n",
        "# X = ...\n",
        "# y = ..."
      ],
      "metadata": {
        "id": "iVMXfKJ9tLmz"
      },
      "execution_count": 5,
      "outputs": []
    },
    {
      "cell_type": "code",
      "source": [
        "# Standardize the features\n",
        "scaler = StandardScaler()\n",
        "scaler.fit(X)\n",
        "x_norm = scaler.transform(X)\n",
        "df_x_norm = pd.DataFrame(x_norm, columns=X.columns)"
      ],
      "metadata": {
        "id": "-Dwu2FZHlGhH"
      },
      "execution_count": null,
      "outputs": []
    },
    {
      "cell_type": "markdown",
      "source": [
        "# Step 2: Model Training and Cross-Validation\n"
      ],
      "metadata": {
        "id": "IsLoRtnUlHIq"
      }
    },
    {
      "cell_type": "code",
      "source": [
        "kfold = KFold(n_splits=10, random_state=0, shuffle=True)  # Set the number of folds\n",
        "lr = LogisticRegression(solver='liblinear', max_iter=1000, penalty='l1', C=1)  # Set hyperparameters\n",
        "\n",
        "# Evaluate model with cross-validation\n",
        "results = cross_val_score(lr, df_x_norm.values, y.values, scoring='accuracy', cv=kfold)\n",
        "print(\"Accuracy: %.3f%% (%.3f%%)\" % (results.mean() * 100.0, results.std() * 100.0))\n",
        "\n",
        "# Fit the model\n",
        "lr.fit(df_x_norm, y)\n",
        "print(lr.coef_)"
      ],
      "metadata": {
        "id": "HkyFxFkulLOz"
      },
      "execution_count": null,
      "outputs": []
    },
    {
      "cell_type": "markdown",
      "source": [
        "# Step 3: Hyperparameter Tuning with GridSearchCV\n"
      ],
      "metadata": {
        "id": "J6bo5cm8lOU1"
      }
    },
    {
      "cell_type": "code",
      "source": [
        "param_dict = {\"C\": np.arange(0.1, 0.31, 0.01), 'max_iter': range(1000, 11000, 1000)}\n",
        "grid_lr = LogisticRegression(solver='liblinear', penalty='l1', random_state=0)\n",
        "clf = GridSearchCV(estimator=grid_lr, param_grid=param_dict, cv=10)\n",
        "clf.fit(df_x_norm.values, y.values)\n",
        "print(clf.best_estimator_)"
      ],
      "metadata": {
        "id": "8RIRA7qKlRqM"
      },
      "execution_count": null,
      "outputs": []
    },
    {
      "cell_type": "markdown",
      "source": [
        "# Step 4: Plotting Regularization Path\n"
      ],
      "metadata": {
        "id": "f9ojgIYPlU3s"
      }
    },
    {
      "cell_type": "code",
      "source": [
        "def plot_reg_path(c_range):\n",
        "    clf = LogisticRegression(penalty=\"l1\", solver=\"liblinear\", max_iter=1000, random_state=0)\n",
        "    coefs_ = []\n",
        "    for c in c_range:\n",
        "        clf.set_params(C=c)\n",
        "        clf.fit(df_x_norm, y)\n",
        "        coefs_.append(clf.coef_.ravel().copy())\n",
        "    coefs_ = np.array(coefs_)\n",
        "    plt.plot(np.log10(c_range), coefs_, marker=\"o\")\n",
        "    plt.xlabel(\"log(C)\")\n",
        "    plt.ylabel(\"Coefficients\")\n",
        "    plt.title(\"Logistic Regression Lasso Regularization Path\")\n",
        "    plt.axis(\"tight\")\n",
        "    plt.show()\n",
        "\n"
      ],
      "metadata": {
        "id": "Q61wwxorlXA-"
      },
      "execution_count": null,
      "outputs": []
    },
    {
      "cell_type": "markdown",
      "source": [
        "# Step 5: Plotting Regularization Path with AUC\n"
      ],
      "metadata": {
        "id": "sgXLxuKmlnCp"
      }
    },
    {
      "cell_type": "code",
      "source": [
        "def plot_reg_path_auc(c_range, cv):\n",
        "    clf = LogisticRegression(penalty=\"l1\", solver=\"liblinear\", max_iter=1000, random_state=0)\n",
        "    auc_l = []\n",
        "    for c in c_range:\n",
        "        clf.set_params(C=c)\n",
        "        clf.fit(df_x_norm, y)\n",
        "        auc = cross_val_score(clf, df_x_norm, y, scoring='roc_auc', cv=cv)\n",
        "        auc_l.append(auc.mean())\n",
        "    plt.plot(1/c_range, auc_l, marker=\"o\")\n",
        "    plt.xlabel(\"Penalty\")\n",
        "    plt.ylabel(\"ROC-AUC\")\n",
        "    plt.title(\"Logistic Regression Regularization Path\")\n",
        "    plt.axis(\"tight\")\n",
        "    plt.show()\n",
        "\n",
        "# Generate plots\n",
        "cs = np.logspace(-3, 3, 7)\n",
        "plot_reg_path(cs)\n",
        "cs_range = np.arange(0.1, 1.01, 0.01)\n",
        "plot_reg_path_auc(cs_range, cv=10)"
      ],
      "metadata": {
        "id": "I-0KsuYllpKz"
      },
      "execution_count": null,
      "outputs": []
    },
    {
      "cell_type": "markdown",
      "source": [
        "# Step 6: Logistic Regression with Cross-Validation"
      ],
      "metadata": {
        "id": "u13BkHG9lhUC"
      }
    },
    {
      "cell_type": "code",
      "source": [
        "Cs = [0.11]\n",
        "lr_cv = LogisticRegressionCV(cv=10, solver='liblinear', max_iter=1000, penalty='l1', Cs=Cs, random_state=1314)\n",
        "lr_cv.fit(df_x_norm, y)\n",
        "\n",
        "# Calculate and print performance metrics\n",
        "roc_auc_scores = cross_val_score(lr_cv, df_x_norm, y, scoring='roc_auc', cv=10)\n",
        "print('The average ROC-AUC is:', round(roc_auc_scores.mean(), 2))\n",
        "print(\"Accuracy: %0.2f (+/- %0.2f)\" % (roc_auc_scores.mean(), roc_auc_scores.std() * 2))\n"
      ],
      "metadata": {
        "id": "pIRuT3N-lmg1"
      },
      "execution_count": null,
      "outputs": []
    },
    {
      "cell_type": "markdown",
      "source": [
        "# Step 7: Sensitivity and Specificity\n"
      ],
      "metadata": {
        "id": "QpIZmx0uluFa"
      }
    },
    {
      "cell_type": "code",
      "source": [
        "sensitivity = make_scorer(recall_score, pos_label=1)\n",
        "specificity = make_scorer(recall_score, pos_label=0)\n",
        "print(\"Sensitivity:\", cross_val_score(lr_cv, df_x_norm, y, scoring=sensitivity, cv=10).mean())\n",
        "print(\"Specificity:\", cross_val_score(lr_cv, df_x_norm, y, scoring=specificity, cv=10).mean())\n"
      ],
      "metadata": {
        "id": "4br0ofxslwXW"
      },
      "execution_count": null,
      "outputs": []
    },
    {
      "cell_type": "markdown",
      "source": [
        "# Step 8: Feature Importance Visualization\n"
      ],
      "metadata": {
        "id": "Wv9SCNXjlzwO"
      }
    },
    {
      "cell_type": "code",
      "source": [
        "df_coef_nozero = pd.DataFrame({'FeatureName': X.columns, 'Coefficient': lr_cv.coef_.ravel()})\n",
        "df_coef_nozero = df_coef_nozero[df_coef_nozero['Coefficient'] != 0]\n",
        "\n",
        "plt.figure(figsize=(15, 10))\n",
        "sns.barplot(x='FeatureName', y='Coefficient', data=df_coef_nozero, palette=\"GnBu_d\")\n",
        "plt.xticks(rotation=25)\n",
        "plt.xlabel('Feature')\n",
        "plt.ylabel('Coefficient')\n",
        "plt.title('Feature Importance')\n",
        "plt.show()"
      ],
      "metadata": {
        "id": "53S7W8aOl0Qp"
      },
      "execution_count": null,
      "outputs": []
    }
  ]
}